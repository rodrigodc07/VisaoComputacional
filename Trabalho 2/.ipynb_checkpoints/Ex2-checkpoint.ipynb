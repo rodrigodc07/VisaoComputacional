{
 "cells": [
  {
   "cell_type": "markdown",
   "metadata": {},
   "source": [
    "# Preâmbulo"
   ]
  },
  {
   "cell_type": "markdown",
   "metadata": {},
   "source": [
    "Filtros passa baixam são aqueles que apresentam apenas coeficientes positivos, e assim suavissam os detalhes da imagem tornando a mais uniforme."
   ]
  },
  {
   "cell_type": "markdown",
   "metadata": {},
   "source": [
    "# Código"
   ]
  },
  {
   "cell_type": "code",
   "execution_count": null,
   "metadata": {
    "ExecuteTime": {
     "end_time": "2019-04-28T16:41:54.971102Z",
     "start_time": "2019-04-28T16:41:54.667565Z"
    }
   },
   "outputs": [],
   "source": [
    "import cv2\n",
    "import numpy as np\n",
    "from matplotlib import pyplot as plt\n",
    "import matplotlib as mpl"
   ]
  },
  {
   "cell_type": "code",
   "execution_count": null,
   "metadata": {
    "ExecuteTime": {
     "end_time": "2019-04-28T16:41:55.144011Z",
     "start_time": "2019-04-28T16:41:54.973633Z"
    }
   },
   "outputs": [],
   "source": [
    "img = np.array([ [0, 0, 0, 0, 0, 0, 0,  0, 0, 0, 255, 255, 255, 255, 255, 255, 255, 255, 255, 255],\n",
    "              [0, 0, 0, 0, 0, 0, 0,  0, 0, 0, 255, 255, 255, 255, 255, 255, 255, 255, 255, 255],\n",
    "              [0, 0, 0, 0, 0, 0, 0,  0, 0, 0, 255, 255, 255, 255, 255, 255, 255, 255, 255, 255],\n",
    "              [0, 0, 0, 0, 0, 0, 0,  0, 0, 0, 255, 255, 255, 255, 255, 255, 255, 255, 255, 255],\n",
    "              [0, 0, 0, 0, 0, 0, 0,  0, 0, 0, 255, 255, 255, 255, 255, 255, 255, 255, 255, 255], \n",
    "              [0, 0, 0, 0, 0, 0, 0,  0, 0, 0, 255, 255, 255, 255, 255, 255, 255, 255, 255, 255],\n",
    "              [0, 0, 0, 0, 0, 0, 0,  0, 0, 0, 255, 255, 255, 255, 255, 255, 255, 255, 255, 255],\n",
    "              [0, 0, 0, 0, 0, 0, 0,  0, 0, 0, 255, 255, 255, 255, 255, 255, 255, 255, 255, 255],\n",
    "              [0, 0, 0, 0, 0, 0, 0,  0, 0, 0, 255, 255, 255, 255, 255, 255, 255, 255, 255, 255], \n",
    "              [0, 0, 0, 0, 0, 0, 0,  0, 0, 0, 255, 255, 255, 255, 255, 255, 255, 255, 255, 255],\n",
    "              [255, 255, 255, 255, 255, 255, 255, 255, 255, 255, 0, 0, 0, 0, 0, 0, 0, 0, 0, 0,],\n",
    "              [255, 255, 255, 255, 255, 255, 255, 255, 255, 255, 0, 0, 0, 0, 0, 0, 0, 0, 0, 0,],\n",
    "              [255, 255, 255, 255, 255, 255, 255, 255, 255, 255, 0, 0, 0, 0, 0, 0, 0, 0, 0, 0,],\n",
    "              [255, 255, 255, 255, 255, 255, 255, 255, 255, 255, 0, 0, 0, 0, 0, 0, 0, 0, 0, 0,],\n",
    "              [255, 255, 255, 255, 255, 255, 255, 255, 255, 255, 0, 0, 0, 0, 0, 0, 0, 0, 0, 0,],\n",
    "              [255, 255, 255, 255, 255, 255, 255, 255, 255, 255, 0, 0, 0, 0, 0, 0, 0, 0, 0, 0,],\n",
    "              [255, 255, 255, 255, 255, 255, 255, 255, 255, 255, 0, 0, 0, 0, 0, 0, 0, 0, 0, 0,],\n",
    "              [255, 255, 255, 255, 255, 255, 255, 255, 255, 255, 0, 0, 0, 0, 0, 0, 0, 0, 0, 0,],\n",
    "              [255, 255, 255, 255, 255, 255, 255, 255, 255, 255, 0, 0, 0, 0, 0, 0, 0, 0, 0, 0,],\n",
    "              [255, 255, 255, 255, 255, 255, 255, 255, 255, 255, 0, 0, 0, 0, 0, 0, 0, 0, 0, 0,]], dtype = np.float64)\n",
    "plt.imshow(img,cmap = 'gray')\n",
    "plt.title('Original'), plt.xticks([]), plt.yticks([])\n",
    "plt.show()"
   ]
  },
  {
   "cell_type": "code",
   "execution_count": null,
   "metadata": {
    "ExecuteTime": {
     "end_time": "2019-04-28T17:19:45.502302Z",
     "start_time": "2019-04-28T17:19:45.486455Z"
    }
   },
   "outputs": [],
   "source": [
    "filtro_3_3 = np.array([[1/9, 1/9, 1/9],[1/9, 1/9, 1/9],[1/9, 1/9, 1/9]])\n",
    "filtro_7_7 = np.array([[1/49,1/49,1/49,1/49,1/49,1/49,1/49],\n",
    "                       [1/49,1/49,1/49,1/49,1/49,1/49,1/49],\n",
    "                       [1/49,1/49,1/49,1/49,1/49,1/49,1/49],\n",
    "                       [1/49,1/49,1/49,1/49,1/49,1/49,1/49],\n",
    "                       [1/49,1/49,1/49,1/49,1/49,1/49,1/49],\n",
    "                       [1/49,1/49,1/49,1/49,1/49,1/49,1/49],\n",
    "                       [1/49,1/49,1/49,1/49,1/49,1/49,1/49]])\n",
    "\n",
    "img_filtro_3_3 = cv2.filter2D(img, -1, filtro_3_3)\n",
    "img_filtro_7_7 = cv2.filter2D(img, -1, filtro_7_7)\n",
    "\n",
    "plt.imshow(img_filtro_3_3,cmap = 'gray')\n",
    "plt.title('3x3'), plt.xticks([]), plt.yticks([])\n",
    "plt.show()\n",
    "\n",
    "plt.imshow(img_filtro_7_7,cmap = 'gray')\n",
    "plt.title('7x7'), plt.xticks([]), plt.yticks([])\n",
    "plt.show()"
   ]
  },
  {
   "cell_type": "markdown",
   "metadata": {},
   "source": [
    "# Resultados"
   ]
  },
  {
   "attachments": {
    "image.png": {
     "image/png": "[encoded data removed]"
    }
   },
   "cell_type": "markdown",
   "metadata": {},
   "source": [
    "![image.png](attachment:image.png)"
   ]
  },
  {
   "attachments": {
    "image.png": {
     "image/png": "[encoded data removed]"
    }
   },
   "cell_type": "markdown",
   "metadata": {},
   "source": [
    "![image.png](attachment:image.png)"
   ]
  },
  {
   "attachments": {
    "image.png": {
     "image/png": "[encoded data removed]"
    }
   },
   "cell_type": "markdown",
   "metadata": {},
   "source": [
    "![image.png](attachment:image.png)"
   ]
  },
  {
   "cell_type": "markdown",
   "metadata": {},
   "source": [
    "# Análises"
   ]
  },
  {
   "cell_type": "markdown",
   "metadata": {},
   "source": [
    "O filtro 3x3 utiliza os 8 vizinhos mais proximas (aqueles que fazem fronteira direta) e o proprio pixel para definir o novo valor de intensidade, por isso apenas os pixels que faziam fronteira com outros cujos valores eram diferentes tiveram seus valores alterados."
   ]
  },
  {
   "cell_type": "markdown",
   "metadata": {},
   "source": [
    "O filtro 7x7 utiliza os 48 vizinhos mais proximas (aqueles que estão a uma distancia de até 2 outros pixels) e o proprio pixel para definir o novo valor de intensidade, por isso existem mais pixels cuja nova intensidade foi diferente da original, pois mais pixels passam a influenciar no novo valor de intensidade."
   ]
  },
  {
   "cell_type": "code",
   "execution_count": null,
   "metadata": {},
   "outputs": [],
   "source": []
  }
 ],
 "metadata": {
  "kernelspec": {
   "display_name": ".venv",
   "language": "python",
   "name": ".venv"
  },
  "language_info": {
   "codemirror_mode": {
    "name": "ipython",
    "version": 3
   },
   "file_extension": ".py",
   "mimetype": "text/x-python",
   "name": "python",
   "nbconvert_exporter": "python",
   "pygments_lexer": "ipython3",
   "version": "3.5.2"
  }
 },
 "nbformat": 4,
 "nbformat_minor": 2
}
