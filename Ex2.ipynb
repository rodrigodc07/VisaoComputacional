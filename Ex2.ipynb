{
 "cells": [
  {
   "cell_type": "markdown",
   "metadata": {},
   "source": [
    "# Preâmbulo"
   ]
  },
  {
   "cell_type": "markdown",
   "metadata": {},
   "source": [
    "Duas imagems binarias serão geradas para demostrar a propriedade da trasnformada de fourier, que diz que a fase de uma imagem não é alterada por operações como translação."
   ]
  },
  {
   "cell_type": "markdown",
   "metadata": {},
   "source": [
    "# Código"
   ]
  },
  {
   "cell_type": "code",
   "execution_count": 1,
   "metadata": {
    "ExecuteTime": {
     "end_time": "2019-06-11T15:02:22.223862Z",
     "start_time": "2019-06-11T15:02:21.977494Z"
    }
   },
   "outputs": [],
   "source": [
    "import cv2\n",
    "import numpy as np\n",
    "from matplotlib import pyplot as plt\n",
    "import matplotlib as mpl"
   ]
  },
  {
   "cell_type": "code",
   "execution_count": 2,
   "metadata": {
    "ExecuteTime": {
     "end_time": "2019-06-11T15:02:22.231257Z",
     "start_time": "2019-06-11T15:02:22.226677Z"
    }
   },
   "outputs": [],
   "source": [
    "def calc_modulo_fourier(img):\n",
    "    dft = cv2.dft(np.float32(img),flags = cv2.DFT_COMPLEX_OUTPUT)\n",
    "    return cv2.magnitude(dft[:,:,0],dft[:,:,1])"
   ]
  },
  {
   "cell_type": "code",
   "execution_count": 3,
   "metadata": {
    "ExecuteTime": {
     "end_time": "2019-06-11T15:02:22.283734Z",
     "start_time": "2019-06-11T15:02:22.233285Z"
    }
   },
   "outputs": [],
   "source": [
    "img_original = np.array(\n",
    "             [[0, 0, 0, 0, 0, 0, 0, 0],\n",
    "              [0, 1, 1, 1, 0, 0, 0, 0],\n",
    "              [0, 1, 1, 1, 0, 0, 0, 0],\n",
    "              [0, 1, 1, 1, 0, 0, 0, 0],\n",
    "              [0, 0, 0, 0, 0, 0, 0, 0],  \n",
    "              [0, 0, 0, 0, 0, 0, 0, 0],\n",
    "              [0, 0, 0, 0, 0, 0, 0, 0],\n",
    "              [0, 0, 0, 0, 0, 0, 0, 0]], dtype=np.float32)"
   ]
  },
  {
   "cell_type": "code",
   "execution_count": 4,
   "metadata": {
    "ExecuteTime": {
     "end_time": "2019-06-11T15:02:22.333328Z",
     "start_time": "2019-06-11T15:02:22.285845Z"
    }
   },
   "outputs": [],
   "source": [
    "img_transalada = np.array(\n",
    "             [[0, 0, 0, 0, 0, 0, 0, 0],\n",
    "              [0, 0, 0, 0, 0, 0, 0, 0],\n",
    "              [0, 0, 0, 0, 0, 0, 0, 0],\n",
    "              [0, 0, 0, 1, 1, 1, 0, 0],\n",
    "              [0, 0, 0, 1, 1, 1, 0, 0],  \n",
    "              [0, 0, 0, 1, 1, 1, 0, 0],\n",
    "              [0, 0, 0, 0, 0, 0, 0, 0],\n",
    "              [0, 0, 0, 0, 0, 0, 0, 0]], dtype=np.float32)"
   ]
  },
  {
   "cell_type": "code",
   "execution_count": 5,
   "metadata": {
    "ExecuteTime": {
     "end_time": "2019-06-11T15:02:22.470612Z",
     "start_time": "2019-06-11T15:02:22.335041Z"
    }
   },
   "outputs": [
    {
     "data": {
      "image/png": "[encoded data removed]",
      "text/plain": [
       "<Figure size 432x288 with 1 Axes>"
      ]
     },
     "metadata": {},
     "output_type": "display_data"
    }
   ],
   "source": [
    "plt.imshow(img_original,cmap = 'gray')\n",
    "plt.title('Original'), plt.xticks([]), plt.yticks([])\n",
    "plt.show()"
   ]
  },
  {
   "cell_type": "code",
   "execution_count": 6,
   "metadata": {
    "ExecuteTime": {
     "end_time": "2019-06-11T15:02:22.552469Z",
     "start_time": "2019-06-11T15:02:22.472593Z"
    }
   },
   "outputs": [
    {
     "data": {
      "image/png": "[encoded data removed]",
      "text/plain": [
       "<Figure size 432x288 with 1 Axes>"
      ]
     },
     "metadata": {},
     "output_type": "display_data"
    }
   ],
   "source": [
    "plt.imshow(img_transalada,cmap = 'gray')\n",
    "plt.title('Transalada'), plt.xticks([]), plt.yticks([])\n",
    "plt.show()"
   ]
  },
  {
   "cell_type": "code",
   "execution_count": 7,
   "metadata": {
    "ExecuteTime": {
     "end_time": "2019-06-11T15:02:22.557572Z",
     "start_time": "2019-06-11T15:02:22.554331Z"
    }
   },
   "outputs": [],
   "source": [
    "modulo_fourier_original = calc_modulo_fourier(img_original)\n",
    "modulo_fourier_transalada = calc_modulo_fourier(img_transalada)"
   ]
  },
  {
   "cell_type": "code",
   "execution_count": 8,
   "metadata": {
    "ExecuteTime": {
     "end_time": "2019-06-11T15:02:22.627287Z",
     "start_time": "2019-06-11T15:02:22.559730Z"
    }
   },
   "outputs": [
    {
     "data": {
      "text/plain": [
       "array([[0., 0., 0., 0., 0., 0., 0., 0.],\n",
       "       [0., 0., 0., 0., 0., 0., 0., 0.],\n",
       "       [0., 0., 0., 0., 0., 0., 0., 0.],\n",
       "       [0., 0., 0., 0., 0., 0., 0., 0.],\n",
       "       [0., 0., 0., 0., 0., 0., 0., 0.],\n",
       "       [0., 0., 0., 0., 0., 0., 0., 0.],\n",
       "       [0., 0., 0., 0., 0., 0., 0., 0.],\n",
       "       [0., 0., 0., 0., 0., 0., 0., 0.]], dtype=float32)"
      ]
     },
     "execution_count": 8,
     "metadata": {},
     "output_type": "execute_result"
    }
   ],
   "source": [
    "diff_modulos = modulo_fourier_original - modulo_fourier_transalada\n",
    "diff_modulos"
   ]
  },
  {
   "cell_type": "markdown",
   "metadata": {},
   "source": [
    "# Resultados"
   ]
  },
  {
   "attachments": {
    "image.png": {
     "image/png": "[encoded data removed]"
    }
   },
   "cell_type": "markdown",
   "metadata": {},
   "source": [
    "![image.png](attachment:image.png)"
   ]
  },
  {
   "attachments": {
    "image.png": {
     "image/png": "[encoded data removed]"
    }
   },
   "cell_type": "markdown",
   "metadata": {},
   "source": [
    "![image.png](attachment:image.png)"
   ]
  },
  {
   "cell_type": "markdown",
   "metadata": {},
   "source": [
    "## Matrix de diferença dos modulos das magnitudes das transformadas de fourier"
   ]
  },
  {
   "cell_type": "markdown",
   "metadata": {},
   "source": [
    "| | | | | | | | | \n",
    "| -| -| -| -| -| -| -| -| \n",
    "| 0| 0| 0| 0| 0| 0| 0| 0| \n",
    "| 0| 0| 0| 0| 0| 0| 0| 0| \n",
    "| 0| 0| 0| 0| 0| 0| 0| 0| \n",
    "| 0| 0| 0| 0| 0| 0| 0| 0| \n",
    "| 0| 0| 0| 0| 0| 0| 0| 0| \n",
    "| 0| 0| 0| 0| 0| 0| 0| 0| \n",
    "| 0| 0| 0| 0| 0| 0| 0| 0| \n",
    "| 0| 0| 0| 0| 0| 0| 0| 0| "
   ]
  },
  {
   "cell_type": "markdown",
   "metadata": {},
   "source": [
    "# Análises"
   ]
  },
  {
   "cell_type": "markdown",
   "metadata": {},
   "source": [
    "Podemos comprovar empiricamente a propriedade da transalação e mudança de fase, pois a transformada de fourier de uma imagem sendo translada e da imagem original tem os mesmo modulos de magnitudes."
   ]
  }
 ],
 "metadata": {
  "kernelspec": {
   "display_name": "Python 2",
   "language": "python",
   "name": "python2"
  },
  "language_info": {
   "codemirror_mode": {
    "name": "ipython",
    "version": 3
   },
   "file_extension": ".py",
   "mimetype": "text/x-python",
   "name": "python",
   "nbconvert_exporter": "python",
   "pygments_lexer": "ipython3",
   "version": "3.6.7"
  }
 },
 "nbformat": 4,
 "nbformat_minor": 2
}
