{
 "cells": [
  {
   "cell_type": "code",
   "execution_count": 1,
   "metadata": {
    "ExecuteTime": {
     "end_time": "2019-04-19T18:54:37.496285Z",
     "start_time": "2019-04-19T18:54:37.380139Z"
    }
   },
   "outputs": [],
   "source": [
    "import numpy as np\n",
    "import cv2"
   ]
  },
  {
   "cell_type": "code",
   "execution_count": 2,
   "metadata": {
    "ExecuteTime": {
     "end_time": "2019-04-19T18:54:37.568481Z",
     "start_time": "2019-04-19T18:54:37.562767Z"
    }
   },
   "outputs": [],
   "source": [
    "imgname = 'VisaoTrab1'\n",
    "img = cv2.imread(imgname + '.tiff',1)"
   ]
  },
  {
   "cell_type": "markdown",
   "metadata": {},
   "source": [
    "Para aplicar o filtro de gama, iremos operar sobre o brilho da imagem, por isso o formato HSV ira ser bastante util, pois o V é o coeficiente de brilho do pixel.\n",
    "\n",
    "Além disso o openCV utiliza a escala 0-255 para intensidade, a fim de aplicar corretamente o filtro, e evitar saturação devemos normalizar os valores.\n",
    "\n",
    "Com os valores normalizados podemos elevar o brilho ao gama para todos os pixel.\n",
    "\n",
    "Com os novos valores de brilho, basta agora transformar a imagem para o padrão BGR do openCV e teremos uma imagem nova com o gama corrigido."
   ]
  },
  {
   "cell_type": "code",
   "execution_count": 10,
   "metadata": {
    "ExecuteTime": {
     "end_time": "2019-04-19T18:57:31.482278Z",
     "start_time": "2019-04-19T18:57:31.475047Z"
    }
   },
   "outputs": [],
   "source": [
    "def aplica_filtro_gama(img, gamma):\n",
    "    \n",
    "    hsv = cv2.cvtColor(img, cv2.COLOR_BGR2HSV)\n",
    "    v = hsv[:, :,2]\n",
    "    v_double = v / 255\n",
    "    v_double_gama = v_double ** gamma\n",
    "    v_gama = v_double_gama * 255\n",
    "    hsv[:, :, 2] = v_gama\n",
    "\n",
    "    return cv2.cvtColor(hsv_gama, cv2.COLOR_HSV2BGR)"
   ]
  },
  {
   "cell_type": "markdown",
   "metadata": {},
   "source": [
    "Para aplicar a corregir a luminancia no rosto do bebe, devemos aplicar um filtro de gama > 1, pois com isso a parte escura do rosto do bebe, tera seu constraste ampliado e será mais visivel."
   ]
  },
  {
   "cell_type": "code",
   "execution_count": 13,
   "metadata": {
    "ExecuteTime": {
     "end_time": "2019-04-19T19:07:56.733628Z",
     "start_time": "2019-04-19T19:07:56.706234Z"
    }
   },
   "outputs": [
    {
     "data": {
      "text/plain": [
       "True"
      ]
     },
     "execution_count": 13,
     "metadata": {},
     "output_type": "execute_result"
    }
   ],
   "source": [
    "gamma = 0.5\n",
    "img_gama = aplica_filtro_gama(img,gamma)\n",
    "cv2.imwrite(imgname + \"_correcao_gama.tiff\", img_gama)"
   ]
  },
  {
   "cell_type": "code",
   "execution_count": null,
   "metadata": {},
   "outputs": [],
   "source": []
  }
 ],
 "metadata": {
  "kernelspec": {
   "display_name": ".venv",
   "language": "python",
   "name": ".venv"
  },
  "language_info": {
   "codemirror_mode": {
    "name": "ipython",
    "version": 3
   },
   "file_extension": ".py",
   "mimetype": "text/x-python",
   "name": "python",
   "nbconvert_exporter": "python",
   "pygments_lexer": "ipython3",
   "version": "3.5.2"
  }
 },
 "nbformat": 4,
 "nbformat_minor": 2
}
