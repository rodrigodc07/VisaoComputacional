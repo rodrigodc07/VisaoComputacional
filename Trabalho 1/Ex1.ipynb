{
 "cells": [
  {
   "cell_type": "markdown",
   "metadata": {},
   "source": [
    "# EX1"
   ]
  },
  {
   "cell_type": "markdown",
   "metadata": {},
   "source": [
    "Formatação é um probelma classifico no universo de visão computacional, pois imagens por padrão aprensentam uma grande quantidade de informação de intensiadedes, aspectos de cor, e por as vezes se tratarem de uma grande quantidade de pixels o problema fica do tamanho desses arquivos fica cada vez maior. Por isso existem diversos tipos de formatos para imagem cada um com um contexto onde melhor se aplica."
   ]
  },
  {
   "cell_type": "code",
   "execution_count": 1,
   "metadata": {
    "ExecuteTime": {
     "end_time": "2019-04-28T13:58:13.130802Z",
     "start_time": "2019-04-28T13:58:12.721527Z"
    }
   },
   "outputs": [],
   "source": [
    "%matplotlib  inline\n",
    "\n",
    "import numpy as np\n",
    "import cv2\n",
    "import os\n",
    "import matplotlib.pyplot as plt\n",
    "import numpy as np\n",
    "import matplotlib as mpl"
   ]
  },
  {
   "cell_type": "code",
   "execution_count": 2,
   "metadata": {
    "ExecuteTime": {
     "end_time": "2019-04-28T13:58:13.137336Z",
     "start_time": "2019-04-28T13:58:13.133485Z"
    }
   },
   "outputs": [],
   "source": [
    "def saveJPEG(path, image, jpg_quality):\n",
    "    cv2.imwrite(path, image, [int(cv2.IMWRITE_JPEG_QUALITY), jpg_quality])"
   ]
  },
  {
   "cell_type": "code",
   "execution_count": 3,
   "metadata": {
    "ExecuteTime": {
     "end_time": "2019-04-28T13:58:13.147606Z",
     "start_time": "2019-04-28T13:58:13.139643Z"
    }
   },
   "outputs": [],
   "source": [
    "def saveTIFF(path,image):\n",
    "    cv2.imwrite(path, image)"
   ]
  },
  {
   "cell_type": "code",
   "execution_count": 4,
   "metadata": {
    "ExecuteTime": {
     "end_time": "2019-04-28T13:58:13.158277Z",
     "start_time": "2019-04-28T13:58:13.151313Z"
    }
   },
   "outputs": [],
   "source": [
    "def calculaErro(img, img2):\n",
    "    return ((img - img2) ** 2).mean()"
   ]
  },
  {
   "cell_type": "code",
   "execution_count": 5,
   "metadata": {
    "ExecuteTime": {
     "end_time": "2019-04-28T13:58:13.170706Z",
     "start_time": "2019-04-28T13:58:13.160623Z"
    }
   },
   "outputs": [],
   "source": [
    "def calculaTamanho(path):\n",
    "    return os.path.getsize(path)"
   ]
  },
  {
   "cell_type": "code",
   "execution_count": 6,
   "metadata": {
    "ExecuteTime": {
     "end_time": "2019-04-28T13:58:13.203789Z",
     "start_time": "2019-04-28T13:58:13.173707Z"
    }
   },
   "outputs": [],
   "source": [
    "imgname = 'VisaoTrab1'\n",
    "\n",
    "img = cv2.imread(imgname + '.tiff',1)\n",
    "tamanho_img = calculaTamanho(imgname + '.tiff')"
   ]
  },
  {
   "cell_type": "markdown",
   "metadata": {},
   "source": [
    "## JPEG"
   ]
  },
  {
   "cell_type": "code",
   "execution_count": 7,
   "metadata": {
    "ExecuteTime": {
     "end_time": "2019-04-28T13:58:13.233938Z",
     "start_time": "2019-04-28T13:58:13.206596Z"
    }
   },
   "outputs": [
    {
     "name": "stdout",
     "output_type": "stream",
     "text": [
      "O erro da imagem JPEG com qualidade 10 foi de 40.22854487101237, e tamanho 6823 bytes\n",
      "O erro da imagem JPEG com qualidade 50 foi de 8.64175796508789, e tamanho 13226 bytes\n",
      "O erro da imagem JPEG com qualidade 90 foi de 3.39178466796875, e tamanho 35895 bytes\n"
     ]
    }
   ],
   "source": [
    "qualities = [10,50,90]\n",
    "for q in qualities:\n",
    "    outpath_jpeg = imgname + '_' + str(q) + '.jpeg'\n",
    "    saveJPEG(outpath_jpeg,img,q)\n",
    "    img_jpeg = cv2.imread(outpath_jpeg,1)\n",
    "    print(\"O erro da imagem JPEG com qualidade {} foi de {}, e tamanho {} bytes\".\n",
    "          format(q, calculaErro(img, img_jpeg), calculaTamanho(outpath_jpeg)))"
   ]
  },
  {
   "cell_type": "markdown",
   "metadata": {},
   "source": [
    "Com as imagens JPEG podemos perceber que ao aumentarmos a qualidade também aumentamos seu tamanho, isso porque estamos salvando mais informação no arquivo, conseqentemente mais bytes.\n",
    "\n",
    "Também notamos que o erro médio cai a medida que aumentamos a qualidade, isso porque temos a informação sobre mais pixels e assim temos uma imagem mais fiel."
   ]
  },
  {
   "cell_type": "markdown",
   "metadata": {},
   "source": [
    "## TIFF"
   ]
  },
  {
   "cell_type": "code",
   "execution_count": 8,
   "metadata": {
    "ExecuteTime": {
     "end_time": "2019-04-28T13:58:13.271196Z",
     "start_time": "2019-04-28T13:58:13.238188Z"
    }
   },
   "outputs": [
    {
     "name": "stdout",
     "output_type": "stream",
     "text": [
      "O erro da imagem TIFF foi de 3.39178466796875, e tamanho 319654 bytes\n",
      "A imagem original tem 786754 bytes\n"
     ]
    }
   ],
   "source": [
    "outpath_tiff = imgname + '_tiff_novo' + '.tiff'\n",
    "saveTIFF(outpath_tiff,img)\n",
    "img_tiff = cv2.imread(outpath_tiff,1)\n",
    "print(\"O erro da imagem TIFF foi de {}, e tamanho {} bytes\".\n",
    "    format(calculaErro(img, img_jpeg), calculaTamanho(outpath_tiff)))\n",
    "print(\"A imagem original tem {} bytes\".format(tamanho_img))"
   ]
  },
  {
   "cell_type": "markdown",
   "metadata": {},
   "source": [
    "O erro medio apresentado pela imagem salva utilizando o formato TIFF foi 0, isso porque esse formato permite armazenar a imagem sem perda de qualidade e informação.\n",
    "\n",
    "E devido a compressão LZW podemos perceber uma redução de mais de 50% no tamanho da imagem."
   ]
  },
  {
   "cell_type": "markdown",
   "metadata": {},
   "source": [
    "## TIFF VS JPEG"
   ]
  },
  {
   "cell_type": "markdown",
   "metadata": {},
   "source": [
    "O formato TIFF é um formato mais complexo e requer muito mais informação do que o padrão JPEG, uma vez que é capaz de armazenar informações sem perda, porem o arquivo.tiff acaba tendo 10x mais bytes do que um JPEG com 90% de qualidade.\n",
    "\n",
    "Porém o formato JPEG sempre resulta em perda de qualidade da imagem e isso deve ser sempre lembrado quando utilizar esse formato.\n",
    "\n",
    "O formato TIFF é ideal para objetivos onde qualidade é essencial e memória está presente em grande escala, porém caso se não houver necessidade de uma qualidade impecável, o formato JPEG apresenta resultados excelentes com uma fração do tamanho "
   ]
  },
  {
   "cell_type": "markdown",
   "metadata": {},
   "source": [
    "# EX2"
   ]
  },
  {
   "cell_type": "markdown",
   "metadata": {
    "ExecuteTime": {
     "end_time": "2019-04-19T19:27:11.805502Z",
     "start_time": "2019-04-19T19:27:11.794434Z"
    }
   },
   "source": [
    "Para aplicar o filtro de gama, iremos operar sobre o brilho da imagem, por isso o formato HSV ira ser bastante util, pois o V é o coeficiente de brilho do pixel.\n",
    "\n",
    "Além disso o openCV utiliza a escala 0-255 para intensidade, a fim de aplicar corretamente o filtro, e evitar saturação devemos normalizar os valores.\n",
    "\n",
    "Com os valores normalizados podemos elevar o brilho ao gama para todos os pixel.\n",
    "\n",
    "Com os novos valores de brilho, basta agora transformar a imagem para o padrão BGR do openCV e teremos uma imagem nova com o gama corrigido."
   ]
  },
  {
   "cell_type": "code",
   "execution_count": 18,
   "metadata": {
    "ExecuteTime": {
     "end_time": "2019-04-28T13:59:13.165398Z",
     "start_time": "2019-04-28T13:59:13.151821Z"
    }
   },
   "outputs": [],
   "source": [
    "def histograma(img):\n",
    "    mpl.rc(\"savefig\", dpi = 150)\n",
    "    rows, cols, aux = img.shape\n",
    "    hist, bins = np.histogram(img , range =(0,256), bins =64)\n",
    "    hist = hist / float(rows*cols)\n",
    "    center = (bins [:-1] + bins [1:])/ 2\n",
    "    plt.bar(center , hist ,color='m', width =4)\n",
    "    plt.xlim ([0 ,256])\n",
    "    plt.ylim ([0 ,0.1])\n",
    "    plt.ylabel('$p(f(x,y))$', fontsize =16)\n",
    "    plt.xlabel('Intensidade ', fontsize =16)\n",
    "    m_y = 0.005\n",
    "    m = np.mean(img)\n",
    "    s = np.std(img)\n",
    "    plt.plot(m, m_y , \"ko\")\n",
    "    plt.plot([m - s, m + s], [m_y] * 2, \"k--\");\n",
    "    plt.savefig('jimiOrigHist.eps')\n",
    "    plt.show()\n",
    "    print  ('\\nMedia: ', np.mean(img))\n",
    "    print  ('Desvio Padrao: ',np.std(img))"
   ]
  },
  {
   "cell_type": "code",
   "execution_count": 10,
   "metadata": {
    "ExecuteTime": {
     "end_time": "2019-04-28T13:58:13.294563Z",
     "start_time": "2019-04-28T13:58:13.285668Z"
    }
   },
   "outputs": [],
   "source": [
    "def aplica_filtro_gama(img, gamma):\n",
    "    \n",
    "    hsv = cv2.cvtColor(img, cv2.COLOR_BGR2HSV)\n",
    "    v = hsv[:, :,2]\n",
    "    v_double = v / 255\n",
    "    v_double_gama = v_double ** gamma\n",
    "    v_gama = v_double_gama * 255\n",
    "    hsv[:, :, 2] = v_gama\n",
    "\n",
    "    return cv2.cvtColor(hsv, cv2.COLOR_HSV2BGR)"
   ]
  },
  {
   "cell_type": "markdown",
   "metadata": {
    "ExecuteTime": {
     "end_time": "2019-04-19T19:28:51.537955Z",
     "start_time": "2019-04-19T19:28:51.526839Z"
    }
   },
   "source": [
    "Para aplicar a corregir a luminancia no rosto do bebe, devemos aplicar um filtro de gama > 1, pois com isso a parte escura do rosto do bebe, tera seu constraste ampliado e será mais visivel."
   ]
  },
  {
   "cell_type": "code",
   "execution_count": 11,
   "metadata": {
    "ExecuteTime": {
     "end_time": "2019-04-28T13:58:13.346941Z",
     "start_time": "2019-04-28T13:58:13.296512Z"
    }
   },
   "outputs": [
    {
     "data": {
      "text/plain": [
       "True"
      ]
     },
     "execution_count": 11,
     "metadata": {},
     "output_type": "execute_result"
    }
   ],
   "source": [
    "gamma = 0.5\n",
    "img_gama = aplica_filtro_gama(img,gamma)\n",
    "cv2.imwrite(imgname + \"_correcao_gama.tiff\", img_gama)"
   ]
  },
  {
   "cell_type": "code",
   "execution_count": 21,
   "metadata": {
    "ExecuteTime": {
     "end_time": "2019-04-28T13:59:36.614701Z",
     "start_time": "2019-04-28T13:59:36.129156Z"
    }
   },
   "outputs": [
    {
     "data": {
      "image/png": "[encoded data removed]",
      "text/plain": [
       "<Figure size 432x288 with 1 Axes>"
      ]
     },
     "metadata": {
      "needs_background": "light"
     },
     "output_type": "display_data"
    },
    {
     "name": "stdout",
     "output_type": "stream",
     "text": [
      "\n",
      "Media:  84.44746780395508\n",
      "Desvio Padrao:  42.1937009533185\n"
     ]
    }
   ],
   "source": [
    "histograma(img)"
   ]
  },
  {
   "cell_type": "code",
   "execution_count": 22,
   "metadata": {
    "ExecuteTime": {
     "end_time": "2019-04-28T13:59:45.802172Z",
     "start_time": "2019-04-28T13:59:45.305133Z"
    }
   },
   "outputs": [
    {
     "data": {
      "image/png": "[encoded data removed]",
      "text/plain": [
       "<Figure size 432x288 with 1 Axes>"
      ]
     },
     "metadata": {
      "needs_background": "light"
     },
     "output_type": "display_data"
    },
    {
     "name": "stdout",
     "output_type": "stream",
     "text": [
      "\n",
      "Media:  133.07843271891275\n",
      "Desvio Padrao:  38.87477532248105\n"
     ]
    }
   ],
   "source": [
    "histograma(img_gama)"
   ]
  },
  {
   "cell_type": "markdown",
   "metadata": {},
   "source": [
    "Como podemos observar nos histogramas a imagem sem filtro de cama apresenta grande parte de seus pixels com intensidade baixas, ou seja mais escuras, ao aplicar o filtro de gama podemos observar um desvio da media dos valores para 133, tornando a imagem mais clara e visivel"
   ]
  },
  {
   "cell_type": "code",
   "execution_count": null,
   "metadata": {},
   "outputs": [],
   "source": []
  }
 ],
 "metadata": {
  "kernelspec": {
   "display_name": ".venv",
   "language": "python",
   "name": ".venv"
  },
  "language_info": {
   "codemirror_mode": {
    "name": "ipython",
    "version": 3
   },
   "file_extension": ".py",
   "mimetype": "text/x-python",
   "name": "python",
   "nbconvert_exporter": "python",
   "pygments_lexer": "ipython3",
   "version": "3.5.2"
  }
 },
 "nbformat": 4,
 "nbformat_minor": 2
}
